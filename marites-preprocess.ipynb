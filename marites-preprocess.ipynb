{
 "cells": [
  {
   "cell_type": "code",
   "execution_count": 1,
   "metadata": {
    "collapsed": true,
    "id": "qztDBSH3cJmt",
    "ExecuteTime": {
     "end_time": "2023-08-09T14:04:15.923699Z",
     "start_time": "2023-08-09T14:04:10.243486Z"
    }
   },
   "outputs": [],
   "source": [
    "import pandas as pd\n",
    "import numpy as np"
   ]
  },
  {
   "cell_type": "code",
   "execution_count": 2,
   "outputs": [],
   "source": [
    "df = pd.read_csv('raw-dataset/Raw - Amir.csv')"
   ],
   "metadata": {
    "id": "e1wCmKi5cJmv",
    "ExecuteTime": {
     "end_time": "2023-08-09T14:04:26.727378Z",
     "start_time": "2023-08-09T14:04:26.476338Z"
    }
   }
  },
  {
   "cell_type": "code",
   "execution_count": 3,
   "outputs": [
    {
     "data": {
      "text/plain": "   Unnamed: 0                                              title  \\\n0        8476                       You Can Smell Hillary’s Fear   \n1       10294  Watch The Exact Moment Paul Ryan Committed Pol...   \n2        3608        Kerry to go to Paris in gesture of sympathy   \n3       10142  Bernie supporters on Twitter erupt in anger ag...   \n4         875   The Battle of New York: Why This Primary Matters   \n\n                                                text label  \n0  Daniel Greenfield, a Shillman Journalism Fello...  FAKE  \n1  Google Pinterest Digg Linkedin Reddit Stumbleu...  FAKE  \n2  U.S. Secretary of State John F. Kerry said Mon...  REAL  \n3  — Kaydee King (@KaydeeKing) November 9, 2016 T...  FAKE  \n4  It's primary day in New York and front-runners...  REAL  ",
      "text/html": "<div>\n<style scoped>\n    .dataframe tbody tr th:only-of-type {\n        vertical-align: middle;\n    }\n\n    .dataframe tbody tr th {\n        vertical-align: top;\n    }\n\n    .dataframe thead th {\n        text-align: right;\n    }\n</style>\n<table border=\"1\" class=\"dataframe\">\n  <thead>\n    <tr style=\"text-align: right;\">\n      <th></th>\n      <th>Unnamed: 0</th>\n      <th>title</th>\n      <th>text</th>\n      <th>label</th>\n    </tr>\n  </thead>\n  <tbody>\n    <tr>\n      <th>0</th>\n      <td>8476</td>\n      <td>You Can Smell Hillary’s Fear</td>\n      <td>Daniel Greenfield, a Shillman Journalism Fello...</td>\n      <td>FAKE</td>\n    </tr>\n    <tr>\n      <th>1</th>\n      <td>10294</td>\n      <td>Watch The Exact Moment Paul Ryan Committed Pol...</td>\n      <td>Google Pinterest Digg Linkedin Reddit Stumbleu...</td>\n      <td>FAKE</td>\n    </tr>\n    <tr>\n      <th>2</th>\n      <td>3608</td>\n      <td>Kerry to go to Paris in gesture of sympathy</td>\n      <td>U.S. Secretary of State John F. Kerry said Mon...</td>\n      <td>REAL</td>\n    </tr>\n    <tr>\n      <th>3</th>\n      <td>10142</td>\n      <td>Bernie supporters on Twitter erupt in anger ag...</td>\n      <td>— Kaydee King (@KaydeeKing) November 9, 2016 T...</td>\n      <td>FAKE</td>\n    </tr>\n    <tr>\n      <th>4</th>\n      <td>875</td>\n      <td>The Battle of New York: Why This Primary Matters</td>\n      <td>It's primary day in New York and front-runners...</td>\n      <td>REAL</td>\n    </tr>\n  </tbody>\n</table>\n</div>"
     },
     "execution_count": 3,
     "metadata": {},
     "output_type": "execute_result"
    }
   ],
   "source": [
    "df.head()"
   ],
   "metadata": {
    "id": "kf4hv23ccJmv",
    "outputId": "a87146b2-b841-43c4-959d-87d26ba1395f",
    "ExecuteTime": {
     "end_time": "2023-08-09T14:04:29.246579Z",
     "start_time": "2023-08-09T14:04:29.231462Z"
    }
   }
  },
  {
   "cell_type": "code",
   "execution_count": 4,
   "outputs": [
    {
     "data": {
      "text/plain": "Unnamed: 0    6335\ntitle         6335\ntext          6335\nlabel         6335\ndtype: int64"
     },
     "execution_count": 4,
     "metadata": {},
     "output_type": "execute_result"
    }
   ],
   "source": [
    "df.count()"
   ],
   "metadata": {
    "id": "N2Bgu-_bcJmw",
    "outputId": "48e31671-7dbd-469e-ef2d-f6936e95c099",
    "ExecuteTime": {
     "end_time": "2023-08-09T14:04:32.333542Z",
     "start_time": "2023-08-09T14:04:32.328094Z"
    }
   }
  },
  {
   "cell_type": "code",
   "execution_count": 5,
   "outputs": [],
   "source": [
    "df = df.drop(['Unnamed: 0'], axis=1)"
   ],
   "metadata": {
    "id": "41KoMm3kcJmx",
    "ExecuteTime": {
     "end_time": "2023-08-09T14:04:43.032825Z",
     "start_time": "2023-08-09T14:04:43.021980Z"
    }
   }
  },
  {
   "cell_type": "code",
   "execution_count": 6,
   "outputs": [],
   "source": [
    "df['text'] = df['text'].astype(str)\n",
    "df['label'] = df['label'].astype(str)"
   ],
   "metadata": {
    "id": "rCnMpXrecJmy",
    "ExecuteTime": {
     "end_time": "2023-08-09T14:04:45.419739Z",
     "start_time": "2023-08-09T14:04:45.408496Z"
    }
   }
  },
  {
   "cell_type": "code",
   "execution_count": 7,
   "outputs": [],
   "source": [
    "df['text'] = df['text'].str.strip()\n",
    "df['label'] = df['label'].str.strip()"
   ],
   "metadata": {
    "id": "3TIIJN99cJmz",
    "ExecuteTime": {
     "end_time": "2023-08-09T14:04:45.937961Z",
     "start_time": "2023-08-09T14:04:45.934771Z"
    }
   }
  },
  {
   "cell_type": "code",
   "execution_count": 8,
   "outputs": [],
   "source": [
    "df['text'].replace('', np.nan, inplace=True)\n",
    "df['text'].replace('', np.nan, inplace=True)\n",
    "df['text'].replace('nan', np.nan, inplace=True)\n",
    "df['label'].replace('nan', np.nan, inplace=True)"
   ],
   "metadata": {
    "id": "es2utCr2cJmz",
    "ExecuteTime": {
     "end_time": "2023-08-09T14:04:46.435159Z",
     "start_time": "2023-08-09T14:04:46.430809Z"
    }
   }
  },
  {
   "cell_type": "code",
   "execution_count": 9,
   "outputs": [],
   "source": [
    "df.dropna(subset=['text', 'label'], inplace=True)"
   ],
   "metadata": {
    "id": "YPQJI1uocJm0",
    "ExecuteTime": {
     "end_time": "2023-08-09T14:04:47.484077Z",
     "start_time": "2023-08-09T14:04:47.473579Z"
    }
   }
  },
  {
   "cell_type": "code",
   "execution_count": 10,
   "outputs": [
    {
     "data": {
      "text/plain": "title    0\ntext     0\nlabel    0\ndtype: int64"
     },
     "execution_count": 10,
     "metadata": {},
     "output_type": "execute_result"
    }
   ],
   "source": [
    "df.isna().sum()"
   ],
   "metadata": {
    "id": "cpbvZ6BocJm0",
    "outputId": "b7d60b7c-06f6-443a-b97f-c2e6b958cc3c",
    "ExecuteTime": {
     "end_time": "2023-08-09T14:04:48.325677Z",
     "start_time": "2023-08-09T14:04:48.316969Z"
    }
   }
  },
  {
   "cell_type": "code",
   "execution_count": 11,
   "outputs": [],
   "source": [
    "df['label'] = df['label'].replace('FAKE', 'Fake')"
   ],
   "metadata": {
    "id": "3Gn0ULJXcJm0",
    "ExecuteTime": {
     "end_time": "2023-08-09T14:04:50.613756Z",
     "start_time": "2023-08-09T14:04:50.602630Z"
    }
   }
  },
  {
   "cell_type": "code",
   "execution_count": 12,
   "outputs": [],
   "source": [
    "df['label'] = df['label'].replace('REAL', 'Real')"
   ],
   "metadata": {
    "id": "9ZyMfLercJm0",
    "ExecuteTime": {
     "end_time": "2023-08-09T14:04:51.148451Z",
     "start_time": "2023-08-09T14:04:51.137707Z"
    }
   }
  },
  {
   "cell_type": "code",
   "execution_count": 13,
   "outputs": [
    {
     "data": {
      "text/plain": "                                               title  \\\n0                       You Can Smell Hillary’s Fear   \n1  Watch The Exact Moment Paul Ryan Committed Pol...   \n2        Kerry to go to Paris in gesture of sympathy   \n3  Bernie supporters on Twitter erupt in anger ag...   \n4   The Battle of New York: Why This Primary Matters   \n5                                        Tehran, USA   \n6  Girl Horrified At What She Watches Boyfriend D...   \n7                  ‘Britain’s Schindler’ Dies at 106   \n8  Fact check: Trump and Clinton at the 'commande...   \n9  Iran reportedly makes new push for uranium con...   \n\n                                                text label  \n0  Daniel Greenfield, a Shillman Journalism Fello...  Fake  \n1  Google Pinterest Digg Linkedin Reddit Stumbleu...  Fake  \n2  U.S. Secretary of State John F. Kerry said Mon...  Real  \n3  — Kaydee King (@KaydeeKing) November 9, 2016 T...  Fake  \n4  It's primary day in New York and front-runners...  Real  \n5  I’m not an immigrant, but my grandparents are....  Fake  \n6  Share This Baylee Luciani (left), Screenshot o...  Fake  \n7  A Czech stockbroker who saved more than 650 Je...  Real  \n8  Hillary Clinton and Donald Trump made some ina...  Real  \n9  Iranian negotiators reportedly have made a las...  Real  ",
      "text/html": "<div>\n<style scoped>\n    .dataframe tbody tr th:only-of-type {\n        vertical-align: middle;\n    }\n\n    .dataframe tbody tr th {\n        vertical-align: top;\n    }\n\n    .dataframe thead th {\n        text-align: right;\n    }\n</style>\n<table border=\"1\" class=\"dataframe\">\n  <thead>\n    <tr style=\"text-align: right;\">\n      <th></th>\n      <th>title</th>\n      <th>text</th>\n      <th>label</th>\n    </tr>\n  </thead>\n  <tbody>\n    <tr>\n      <th>0</th>\n      <td>You Can Smell Hillary’s Fear</td>\n      <td>Daniel Greenfield, a Shillman Journalism Fello...</td>\n      <td>Fake</td>\n    </tr>\n    <tr>\n      <th>1</th>\n      <td>Watch The Exact Moment Paul Ryan Committed Pol...</td>\n      <td>Google Pinterest Digg Linkedin Reddit Stumbleu...</td>\n      <td>Fake</td>\n    </tr>\n    <tr>\n      <th>2</th>\n      <td>Kerry to go to Paris in gesture of sympathy</td>\n      <td>U.S. Secretary of State John F. Kerry said Mon...</td>\n      <td>Real</td>\n    </tr>\n    <tr>\n      <th>3</th>\n      <td>Bernie supporters on Twitter erupt in anger ag...</td>\n      <td>— Kaydee King (@KaydeeKing) November 9, 2016 T...</td>\n      <td>Fake</td>\n    </tr>\n    <tr>\n      <th>4</th>\n      <td>The Battle of New York: Why This Primary Matters</td>\n      <td>It's primary day in New York and front-runners...</td>\n      <td>Real</td>\n    </tr>\n    <tr>\n      <th>5</th>\n      <td>Tehran, USA</td>\n      <td>I’m not an immigrant, but my grandparents are....</td>\n      <td>Fake</td>\n    </tr>\n    <tr>\n      <th>6</th>\n      <td>Girl Horrified At What She Watches Boyfriend D...</td>\n      <td>Share This Baylee Luciani (left), Screenshot o...</td>\n      <td>Fake</td>\n    </tr>\n    <tr>\n      <th>7</th>\n      <td>‘Britain’s Schindler’ Dies at 106</td>\n      <td>A Czech stockbroker who saved more than 650 Je...</td>\n      <td>Real</td>\n    </tr>\n    <tr>\n      <th>8</th>\n      <td>Fact check: Trump and Clinton at the 'commande...</td>\n      <td>Hillary Clinton and Donald Trump made some ina...</td>\n      <td>Real</td>\n    </tr>\n    <tr>\n      <th>9</th>\n      <td>Iran reportedly makes new push for uranium con...</td>\n      <td>Iranian negotiators reportedly have made a las...</td>\n      <td>Real</td>\n    </tr>\n  </tbody>\n</table>\n</div>"
     },
     "execution_count": 13,
     "metadata": {},
     "output_type": "execute_result"
    }
   ],
   "source": [
    "df.head(10)"
   ],
   "metadata": {
    "id": "8CddPnoAcJm2",
    "outputId": "cea59a44-4530-42cf-e4ca-970ae70d56f2",
    "ExecuteTime": {
     "end_time": "2023-08-09T14:04:51.862473Z",
     "start_time": "2023-08-09T14:04:51.855162Z"
    }
   }
  },
  {
   "cell_type": "code",
   "execution_count": 14,
   "outputs": [
    {
     "data": {
      "text/plain": "array(['Fake', 'Real'], dtype=object)"
     },
     "execution_count": 14,
     "metadata": {},
     "output_type": "execute_result"
    }
   ],
   "source": [
    "df['label'].unique()"
   ],
   "metadata": {
    "id": "1Oi2Mw39cJm2",
    "outputId": "3e405e7c-a63f-46e1-9e24-bf5a0452e5b6",
    "ExecuteTime": {
     "end_time": "2023-08-09T14:04:58.150250Z",
     "start_time": "2023-08-09T14:04:58.135225Z"
    }
   }
  },
  {
   "cell_type": "code",
   "execution_count": 15,
   "outputs": [],
   "source": [
    "df = df.rename(columns={'text': 'article'})"
   ],
   "metadata": {
    "id": "66Tz30SKcJm5",
    "ExecuteTime": {
     "end_time": "2023-08-09T14:05:05.128994Z",
     "start_time": "2023-08-09T14:05:05.107312Z"
    }
   }
  },
  {
   "cell_type": "code",
   "execution_count": 16,
   "outputs": [],
   "source": [
    "df = df.rename(columns={'real': 'label'})"
   ],
   "metadata": {
    "id": "WnY2S-07cJm5",
    "ExecuteTime": {
     "end_time": "2023-08-09T14:05:05.705368Z",
     "start_time": "2023-08-09T14:05:05.703122Z"
    }
   }
  },
  {
   "cell_type": "code",
   "execution_count": 17,
   "outputs": [],
   "source": [
    "# Swap article and label\n",
    "df = df[['label', 'article']]"
   ],
   "metadata": {
    "id": "T_QVMp5McJm7",
    "ExecuteTime": {
     "end_time": "2023-08-09T14:05:06.817596Z",
     "start_time": "2023-08-09T14:05:06.806521Z"
    }
   }
  },
  {
   "cell_type": "code",
   "execution_count": 18,
   "outputs": [
    {
     "data": {
      "text/plain": "     label                                            article\n0     Fake  Daniel Greenfield, a Shillman Journalism Fello...\n1     Fake  Google Pinterest Digg Linkedin Reddit Stumbleu...\n2     Real  U.S. Secretary of State John F. Kerry said Mon...\n3     Fake  — Kaydee King (@KaydeeKing) November 9, 2016 T...\n4     Real  It's primary day in New York and front-runners...\n...    ...                                                ...\n6330  Real  The State Department told the Republican Natio...\n6331  Fake  The ‘P’ in PBS Should Stand for ‘Plutocratic’ ...\n6332  Fake  Anti-Trump Protesters Are Tools of the Oligarc...\n6333  Real  ADDIS ABABA, Ethiopia —President Obama convene...\n6334  Real  Jeb Bush Is Suddenly Attacking Trump. Here's W...\n\n[6299 rows x 2 columns]",
      "text/html": "<div>\n<style scoped>\n    .dataframe tbody tr th:only-of-type {\n        vertical-align: middle;\n    }\n\n    .dataframe tbody tr th {\n        vertical-align: top;\n    }\n\n    .dataframe thead th {\n        text-align: right;\n    }\n</style>\n<table border=\"1\" class=\"dataframe\">\n  <thead>\n    <tr style=\"text-align: right;\">\n      <th></th>\n      <th>label</th>\n      <th>article</th>\n    </tr>\n  </thead>\n  <tbody>\n    <tr>\n      <th>0</th>\n      <td>Fake</td>\n      <td>Daniel Greenfield, a Shillman Journalism Fello...</td>\n    </tr>\n    <tr>\n      <th>1</th>\n      <td>Fake</td>\n      <td>Google Pinterest Digg Linkedin Reddit Stumbleu...</td>\n    </tr>\n    <tr>\n      <th>2</th>\n      <td>Real</td>\n      <td>U.S. Secretary of State John F. Kerry said Mon...</td>\n    </tr>\n    <tr>\n      <th>3</th>\n      <td>Fake</td>\n      <td>— Kaydee King (@KaydeeKing) November 9, 2016 T...</td>\n    </tr>\n    <tr>\n      <th>4</th>\n      <td>Real</td>\n      <td>It's primary day in New York and front-runners...</td>\n    </tr>\n    <tr>\n      <th>...</th>\n      <td>...</td>\n      <td>...</td>\n    </tr>\n    <tr>\n      <th>6330</th>\n      <td>Real</td>\n      <td>The State Department told the Republican Natio...</td>\n    </tr>\n    <tr>\n      <th>6331</th>\n      <td>Fake</td>\n      <td>The ‘P’ in PBS Should Stand for ‘Plutocratic’ ...</td>\n    </tr>\n    <tr>\n      <th>6332</th>\n      <td>Fake</td>\n      <td>Anti-Trump Protesters Are Tools of the Oligarc...</td>\n    </tr>\n    <tr>\n      <th>6333</th>\n      <td>Real</td>\n      <td>ADDIS ABABA, Ethiopia —President Obama convene...</td>\n    </tr>\n    <tr>\n      <th>6334</th>\n      <td>Real</td>\n      <td>Jeb Bush Is Suddenly Attacking Trump. Here's W...</td>\n    </tr>\n  </tbody>\n</table>\n<p>6299 rows × 2 columns</p>\n</div>"
     },
     "execution_count": 18,
     "metadata": {},
     "output_type": "execute_result"
    }
   ],
   "source": [
    "df"
   ],
   "metadata": {
    "id": "uJZLyh90cJm7",
    "outputId": "5b9512ab-618e-405d-ebc7-f4021dd593cd",
    "ExecuteTime": {
     "end_time": "2023-08-09T14:05:08.322102Z",
     "start_time": "2023-08-09T14:05:08.312004Z"
    }
   }
  },
  {
   "cell_type": "code",
   "execution_count": 19,
   "outputs": [],
   "source": [
    "grouped_df = df.groupby('label')"
   ],
   "metadata": {
    "id": "mtHZLUobcJm7",
    "ExecuteTime": {
     "end_time": "2023-08-09T14:05:27.130473Z",
     "start_time": "2023-08-09T14:05:27.124412Z"
    }
   }
  },
  {
   "cell_type": "code",
   "execution_count": 20,
   "outputs": [],
   "source": [
    "real_df = grouped_df.get_group('Real')\n",
    "fake_df = grouped_df.get_group('Fake')"
   ],
   "metadata": {
    "id": "QL3d5-E_cJm7",
    "ExecuteTime": {
     "end_time": "2023-08-09T14:05:29.453681Z",
     "start_time": "2023-08-09T14:05:29.440990Z"
    }
   }
  },
  {
   "cell_type": "code",
   "execution_count": 21,
   "outputs": [
    {
     "data": {
      "text/plain": "3171"
     },
     "execution_count": 21,
     "metadata": {},
     "output_type": "execute_result"
    }
   ],
   "source": [
    "real_df['label'].count()"
   ],
   "metadata": {
    "id": "U7Xhu5igcJm7",
    "outputId": "b51bd2e8-bdeb-4394-b764-891218116a3e",
    "ExecuteTime": {
     "end_time": "2023-08-09T14:05:30.215295Z",
     "start_time": "2023-08-09T14:05:30.204168Z"
    }
   }
  },
  {
   "cell_type": "code",
   "execution_count": 22,
   "outputs": [
    {
     "data": {
      "text/plain": "3128"
     },
     "execution_count": 22,
     "metadata": {},
     "output_type": "execute_result"
    }
   ],
   "source": [
    "fake_df['label'].count()"
   ],
   "metadata": {
    "id": "gqKT0tjFcJm8",
    "outputId": "6b66ba59-e3c1-4580-b642-6478eb5bd6ba",
    "ExecuteTime": {
     "end_time": "2023-08-09T14:05:30.735331Z",
     "start_time": "2023-08-09T14:05:30.732300Z"
    }
   }
  },
  {
   "cell_type": "code",
   "execution_count": 23,
   "outputs": [],
   "source": [
    "real_df = real_df.iloc[:3000]\n",
    "fake_df = fake_df.iloc[:3000]"
   ],
   "metadata": {
    "id": "knzq9QvDcJm8",
    "ExecuteTime": {
     "end_time": "2023-08-09T14:06:02.144381Z",
     "start_time": "2023-08-09T14:06:02.136806Z"
    }
   }
  },
  {
   "cell_type": "code",
   "execution_count": 24,
   "outputs": [
    {
     "data": {
      "text/plain": "     label                                            article\n2     Real  U.S. Secretary of State John F. Kerry said Mon...\n4     Real  It's primary day in New York and front-runners...\n7     Real  A Czech stockbroker who saved more than 650 Je...\n8     Real  Hillary Clinton and Donald Trump made some ina...\n9     Real  Iranian negotiators reportedly have made a las...\n...    ...                                                ...\n5942  Real  Federal taxpayers dumped more than $205 millio...\n5946  Real  The biggest retailer in the world has agreed t...\n5951  Real  When the Commission on Presidential Debates on...\n5952  Real  Republicans face a lot of difficult decisions ...\n5957  Real  Donald Trump won GOP primaries in seven states...\n\n[3000 rows x 2 columns]",
      "text/html": "<div>\n<style scoped>\n    .dataframe tbody tr th:only-of-type {\n        vertical-align: middle;\n    }\n\n    .dataframe tbody tr th {\n        vertical-align: top;\n    }\n\n    .dataframe thead th {\n        text-align: right;\n    }\n</style>\n<table border=\"1\" class=\"dataframe\">\n  <thead>\n    <tr style=\"text-align: right;\">\n      <th></th>\n      <th>label</th>\n      <th>article</th>\n    </tr>\n  </thead>\n  <tbody>\n    <tr>\n      <th>2</th>\n      <td>Real</td>\n      <td>U.S. Secretary of State John F. Kerry said Mon...</td>\n    </tr>\n    <tr>\n      <th>4</th>\n      <td>Real</td>\n      <td>It's primary day in New York and front-runners...</td>\n    </tr>\n    <tr>\n      <th>7</th>\n      <td>Real</td>\n      <td>A Czech stockbroker who saved more than 650 Je...</td>\n    </tr>\n    <tr>\n      <th>8</th>\n      <td>Real</td>\n      <td>Hillary Clinton and Donald Trump made some ina...</td>\n    </tr>\n    <tr>\n      <th>9</th>\n      <td>Real</td>\n      <td>Iranian negotiators reportedly have made a las...</td>\n    </tr>\n    <tr>\n      <th>...</th>\n      <td>...</td>\n      <td>...</td>\n    </tr>\n    <tr>\n      <th>5942</th>\n      <td>Real</td>\n      <td>Federal taxpayers dumped more than $205 millio...</td>\n    </tr>\n    <tr>\n      <th>5946</th>\n      <td>Real</td>\n      <td>The biggest retailer in the world has agreed t...</td>\n    </tr>\n    <tr>\n      <th>5951</th>\n      <td>Real</td>\n      <td>When the Commission on Presidential Debates on...</td>\n    </tr>\n    <tr>\n      <th>5952</th>\n      <td>Real</td>\n      <td>Republicans face a lot of difficult decisions ...</td>\n    </tr>\n    <tr>\n      <th>5957</th>\n      <td>Real</td>\n      <td>Donald Trump won GOP primaries in seven states...</td>\n    </tr>\n  </tbody>\n</table>\n<p>3000 rows × 2 columns</p>\n</div>"
     },
     "execution_count": 24,
     "metadata": {},
     "output_type": "execute_result"
    }
   ],
   "source": [
    "real_df"
   ],
   "metadata": {
    "id": "r4YvKR1xcJm8",
    "outputId": "b4a6b89b-b5b0-4453-8e58-1efc8783b6dd",
    "ExecuteTime": {
     "end_time": "2023-08-09T14:06:06.187298Z",
     "start_time": "2023-08-09T14:06:06.177814Z"
    }
   }
  },
  {
   "cell_type": "code",
   "execution_count": 25,
   "outputs": [
    {
     "data": {
      "text/plain": "     label                                            article\n0     Fake  Daniel Greenfield, a Shillman Journalism Fello...\n1     Fake  Google Pinterest Digg Linkedin Reddit Stumbleu...\n3     Fake  — Kaydee King (@KaydeeKing) November 9, 2016 T...\n5     Fake  I’m not an immigrant, but my grandparents are....\n6     Fake  Share This Baylee Luciani (left), Screenshot o...\n...    ...                                                ...\n6097  Fake  By wmw_admin on November 5, 2016 End Times Dai...\n6105  Fake  By Lambert Strether of Corrente . \\nTPP/TTIP/T...\n6109  Fake  Posted on October 28, 2016 by Michael Snyder \\...\n6110  Fake  BREAKING : Sources Inside the FBI Say Hillary ...\n6113  Fake  According to ABC Eye Witness News, on Saturday...\n\n[3000 rows x 2 columns]",
      "text/html": "<div>\n<style scoped>\n    .dataframe tbody tr th:only-of-type {\n        vertical-align: middle;\n    }\n\n    .dataframe tbody tr th {\n        vertical-align: top;\n    }\n\n    .dataframe thead th {\n        text-align: right;\n    }\n</style>\n<table border=\"1\" class=\"dataframe\">\n  <thead>\n    <tr style=\"text-align: right;\">\n      <th></th>\n      <th>label</th>\n      <th>article</th>\n    </tr>\n  </thead>\n  <tbody>\n    <tr>\n      <th>0</th>\n      <td>Fake</td>\n      <td>Daniel Greenfield, a Shillman Journalism Fello...</td>\n    </tr>\n    <tr>\n      <th>1</th>\n      <td>Fake</td>\n      <td>Google Pinterest Digg Linkedin Reddit Stumbleu...</td>\n    </tr>\n    <tr>\n      <th>3</th>\n      <td>Fake</td>\n      <td>— Kaydee King (@KaydeeKing) November 9, 2016 T...</td>\n    </tr>\n    <tr>\n      <th>5</th>\n      <td>Fake</td>\n      <td>I’m not an immigrant, but my grandparents are....</td>\n    </tr>\n    <tr>\n      <th>6</th>\n      <td>Fake</td>\n      <td>Share This Baylee Luciani (left), Screenshot o...</td>\n    </tr>\n    <tr>\n      <th>...</th>\n      <td>...</td>\n      <td>...</td>\n    </tr>\n    <tr>\n      <th>6097</th>\n      <td>Fake</td>\n      <td>By wmw_admin on November 5, 2016 End Times Dai...</td>\n    </tr>\n    <tr>\n      <th>6105</th>\n      <td>Fake</td>\n      <td>By Lambert Strether of Corrente . \\nTPP/TTIP/T...</td>\n    </tr>\n    <tr>\n      <th>6109</th>\n      <td>Fake</td>\n      <td>Posted on October 28, 2016 by Michael Snyder \\...</td>\n    </tr>\n    <tr>\n      <th>6110</th>\n      <td>Fake</td>\n      <td>BREAKING : Sources Inside the FBI Say Hillary ...</td>\n    </tr>\n    <tr>\n      <th>6113</th>\n      <td>Fake</td>\n      <td>According to ABC Eye Witness News, on Saturday...</td>\n    </tr>\n  </tbody>\n</table>\n<p>3000 rows × 2 columns</p>\n</div>"
     },
     "execution_count": 25,
     "metadata": {},
     "output_type": "execute_result"
    }
   ],
   "source": [
    "fake_df"
   ],
   "metadata": {
    "collapsed": false,
    "ExecuteTime": {
     "end_time": "2023-08-09T14:06:39.940914Z",
     "start_time": "2023-08-09T14:06:39.930458Z"
    }
   }
  },
  {
   "cell_type": "code",
   "execution_count": 26,
   "outputs": [],
   "source": [
    "real_df.to_csv('Real - INT News (Amir).csv', index=False)\n",
    "fake_df.to_csv('Fake - INT News (Amir).csv', index=False)"
   ],
   "metadata": {
    "id": "nccXUrglcJm8",
    "ExecuteTime": {
     "end_time": "2023-08-09T14:07:00.423422Z",
     "start_time": "2023-08-09T14:07:00.091688Z"
    }
   }
  }
 ],
 "metadata": {
  "kernelspec": {
   "display_name": "Python 3",
   "language": "python",
   "name": "python3"
  },
  "language_info": {
   "codemirror_mode": {
    "name": "ipython",
    "version": 2
   },
   "file_extension": ".py",
   "mimetype": "text/x-python",
   "name": "python",
   "nbconvert_exporter": "python",
   "pygments_lexer": "ipython2",
   "version": "2.7.6"
  },
  "colab": {
   "provenance": []
  }
 },
 "nbformat": 4,
 "nbformat_minor": 0
}
